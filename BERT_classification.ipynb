{
 "cells": [
  {
   "cell_type": "code",
   "execution_count": null,
   "metadata": {
    "colab": {
     "base_uri": "https://localhost:8080/"
    },
    "executionInfo": {
     "elapsed": 11523,
     "status": "ok",
     "timestamp": 1684057069289,
     "user": {
      "displayName": "taksh beladiya",
      "userId": "11181425555314775706"
     },
     "user_tz": -330
    },
    "id": "1IW4XuMOj8Gv",
    "outputId": "a30c1751-c68b-4c76-b629-5261de07945c"
   },
   "outputs": [
    {
     "name": "stdout",
     "output_type": "stream",
     "text": [
      "Looking in indexes: https://pypi.org/simple, https://us-python.pkg.dev/colab-wheels/public/simple/\n",
      "Requirement already satisfied: transformers in /usr/local/lib/python3.10/dist-packages (4.29.1)\n",
      "Requirement already satisfied: filelock in /usr/local/lib/python3.10/dist-packages (from transformers) (3.12.0)\n",
      "Requirement already satisfied: huggingface-hub<1.0,>=0.14.1 in /usr/local/lib/python3.10/dist-packages (from transformers) (0.14.1)\n",
      "Requirement already satisfied: numpy>=1.17 in /usr/local/lib/python3.10/dist-packages (from transformers) (1.22.4)\n",
      "Requirement already satisfied: packaging>=20.0 in /usr/local/lib/python3.10/dist-packages (from transformers) (23.1)\n",
      "Requirement already satisfied: pyyaml>=5.1 in /usr/local/lib/python3.10/dist-packages (from transformers) (6.0)\n",
      "Requirement already satisfied: regex!=2019.12.17 in /usr/local/lib/python3.10/dist-packages (from transformers) (2022.10.31)\n",
      "Requirement already satisfied: requests in /usr/local/lib/python3.10/dist-packages (from transformers) (2.27.1)\n",
      "Requirement already satisfied: tokenizers!=0.11.3,<0.14,>=0.11.1 in /usr/local/lib/python3.10/dist-packages (from transformers) (0.13.3)\n",
      "Requirement already satisfied: tqdm>=4.27 in /usr/local/lib/python3.10/dist-packages (from transformers) (4.65.0)\n",
      "Requirement already satisfied: fsspec in /usr/local/lib/python3.10/dist-packages (from huggingface-hub<1.0,>=0.14.1->transformers) (2023.4.0)\n",
      "Requirement already satisfied: typing-extensions>=3.7.4.3 in /usr/local/lib/python3.10/dist-packages (from huggingface-hub<1.0,>=0.14.1->transformers) (4.5.0)\n",
      "Requirement already satisfied: urllib3<1.27,>=1.21.1 in /usr/local/lib/python3.10/dist-packages (from requests->transformers) (1.26.15)\n",
      "Requirement already satisfied: certifi>=2017.4.17 in /usr/local/lib/python3.10/dist-packages (from requests->transformers) (2022.12.7)\n",
      "Requirement already satisfied: charset-normalizer~=2.0.0 in /usr/local/lib/python3.10/dist-packages (from requests->transformers) (2.0.12)\n",
      "Requirement already satisfied: idna<4,>=2.5 in /usr/local/lib/python3.10/dist-packages (from requests->transformers) (3.4)\n"
     ]
    }
   ],
   "source": [
    "# Impoting Necessary Liberary\n",
    "\n",
    "import tensorflow as tf\n",
    "import tensorflow\n",
    "from tensorflow import keras\n",
    "!pip install transformers\n",
    "from transformers import TFAutoModel, AutoTokenizer\n",
    "import pandas as pd\n",
    "import numpy as np\n",
    "import os\n",
    "import json\n",
    "import sklearn\n",
    "from sklearn.model_selection import train_test_split\n",
    "import random\n",
    "import matplotlib.pyplot as plt\n",
    "from sklearn import preprocessing  \n",
    "from sklearn.model_selection import train_test_split"
   ]
  },
  {
   "cell_type": "code",
   "execution_count": null,
   "metadata": {
    "colab": {
     "base_uri": "https://localhost:8080/"
    },
    "executionInfo": {
     "elapsed": 450,
     "status": "ok",
     "timestamp": 1684056460878,
     "user": {
      "displayName": "taksh beladiya",
      "userId": "11181425555314775706"
     },
     "user_tz": -330
    },
    "id": "GZZ9TXdBkA11",
    "outputId": "9c2b40bb-030e-49a7-b302-6d9b579a1f59"
   },
   "outputs": [
    {
     "name": "stdout",
     "output_type": "stream",
     "text": [
      "Archive:  /content/hate-speech-and-offensive-language-dataset.zip\n",
      "  inflating: labeled_data.csv        \n"
     ]
    }
   ],
   "source": [
    "# Downloading the Dataset from kaggle and unzipping it\n",
    "\n",
    "!pip install -U -q kaggle\n",
    "!mkdir -p ~/.kaggle\n",
    "!echo 'set your kaggle username and your unique key to get access to your account' > ~/.kaggle/kaggle.json\n",
    "!chmod 600 ~/.kaggle/kaggle.json\n",
    "!kaggle datasets download -d mrmorj/hate-speech-and-offensive-language-dataset\n",
    "!unzip '/content/hate-speech-and-offensive-language-dataset.zip'"
   ]
  },
  {
   "cell_type": "code",
   "execution_count": null,
   "metadata": {
    "colab": {
     "base_uri": "https://localhost:8080/",
     "height": 206
    },
    "executionInfo": {
     "elapsed": 7,
     "status": "ok",
     "timestamp": 1684057069290,
     "user": {
      "displayName": "taksh beladiya",
      "userId": "11181425555314775706"
     },
     "user_tz": -330
    },
    "id": "uGR4xifVkA42",
    "outputId": "235d7895-c69f-4f90-d2aa-8bb0c6c4e6e3"
   },
   "outputs": [
    {
     "data": {
      "text/html": [
       "\n",
       "  <div id=\"df-90415709-2b75-43b0-a0e0-67a7a778506b\">\n",
       "    <div class=\"colab-df-container\">\n",
       "      <div>\n",
       "<style scoped>\n",
       "    .dataframe tbody tr th:only-of-type {\n",
       "        vertical-align: middle;\n",
       "    }\n",
       "\n",
       "    .dataframe tbody tr th {\n",
       "        vertical-align: top;\n",
       "    }\n",
       "\n",
       "    .dataframe thead th {\n",
       "        text-align: right;\n",
       "    }\n",
       "</style>\n",
       "<table border=\"1\" class=\"dataframe\">\n",
       "  <thead>\n",
       "    <tr style=\"text-align: right;\">\n",
       "      <th></th>\n",
       "      <th>Unnamed: 0</th>\n",
       "      <th>count</th>\n",
       "      <th>hate_speech</th>\n",
       "      <th>offensive_language</th>\n",
       "      <th>neither</th>\n",
       "      <th>class</th>\n",
       "      <th>tweet</th>\n",
       "    </tr>\n",
       "  </thead>\n",
       "  <tbody>\n",
       "    <tr>\n",
       "      <th>0</th>\n",
       "      <td>0</td>\n",
       "      <td>3</td>\n",
       "      <td>0</td>\n",
       "      <td>0</td>\n",
       "      <td>3</td>\n",
       "      <td>2</td>\n",
       "      <td>!!! RT @mayasolovely: As a woman you shouldn't...</td>\n",
       "    </tr>\n",
       "    <tr>\n",
       "      <th>1</th>\n",
       "      <td>1</td>\n",
       "      <td>3</td>\n",
       "      <td>0</td>\n",
       "      <td>3</td>\n",
       "      <td>0</td>\n",
       "      <td>1</td>\n",
       "      <td>!!!!! RT @mleew17: boy dats cold...tyga dwn ba...</td>\n",
       "    </tr>\n",
       "    <tr>\n",
       "      <th>2</th>\n",
       "      <td>2</td>\n",
       "      <td>3</td>\n",
       "      <td>0</td>\n",
       "      <td>3</td>\n",
       "      <td>0</td>\n",
       "      <td>1</td>\n",
       "      <td>!!!!!!! RT @UrKindOfBrand Dawg!!!! RT @80sbaby...</td>\n",
       "    </tr>\n",
       "    <tr>\n",
       "      <th>3</th>\n",
       "      <td>3</td>\n",
       "      <td>3</td>\n",
       "      <td>0</td>\n",
       "      <td>2</td>\n",
       "      <td>1</td>\n",
       "      <td>1</td>\n",
       "      <td>!!!!!!!!! RT @C_G_Anderson: @viva_based she lo...</td>\n",
       "    </tr>\n",
       "    <tr>\n",
       "      <th>4</th>\n",
       "      <td>4</td>\n",
       "      <td>6</td>\n",
       "      <td>0</td>\n",
       "      <td>6</td>\n",
       "      <td>0</td>\n",
       "      <td>1</td>\n",
       "      <td>!!!!!!!!!!!!! RT @ShenikaRoberts: The shit you...</td>\n",
       "    </tr>\n",
       "  </tbody>\n",
       "</table>\n",
       "</div>\n",
       "      <button class=\"colab-df-convert\" onclick=\"convertToInteractive('df-90415709-2b75-43b0-a0e0-67a7a778506b')\"\n",
       "              title=\"Convert this dataframe to an interactive table.\"\n",
       "              style=\"display:none;\">\n",
       "        \n",
       "  <svg xmlns=\"http://www.w3.org/2000/svg\" height=\"24px\"viewBox=\"0 0 24 24\"\n",
       "       width=\"24px\">\n",
       "    <path d=\"M0 0h24v24H0V0z\" fill=\"none\"/>\n",
       "    <path d=\"M18.56 5.44l.94 2.06.94-2.06 2.06-.94-2.06-.94-.94-2.06-.94 2.06-2.06.94zm-11 1L8.5 8.5l.94-2.06 2.06-.94-2.06-.94L8.5 2.5l-.94 2.06-2.06.94zm10 10l.94 2.06.94-2.06 2.06-.94-2.06-.94-.94-2.06-.94 2.06-2.06.94z\"/><path d=\"M17.41 7.96l-1.37-1.37c-.4-.4-.92-.59-1.43-.59-.52 0-1.04.2-1.43.59L10.3 9.45l-7.72 7.72c-.78.78-.78 2.05 0 2.83L4 21.41c.39.39.9.59 1.41.59.51 0 1.02-.2 1.41-.59l7.78-7.78 2.81-2.81c.8-.78.8-2.07 0-2.86zM5.41 20L4 18.59l7.72-7.72 1.47 1.35L5.41 20z\"/>\n",
       "  </svg>\n",
       "      </button>\n",
       "      \n",
       "  <style>\n",
       "    .colab-df-container {\n",
       "      display:flex;\n",
       "      flex-wrap:wrap;\n",
       "      gap: 12px;\n",
       "    }\n",
       "\n",
       "    .colab-df-convert {\n",
       "      background-color: #E8F0FE;\n",
       "      border: none;\n",
       "      border-radius: 50%;\n",
       "      cursor: pointer;\n",
       "      display: none;\n",
       "      fill: #1967D2;\n",
       "      height: 32px;\n",
       "      padding: 0 0 0 0;\n",
       "      width: 32px;\n",
       "    }\n",
       "\n",
       "    .colab-df-convert:hover {\n",
       "      background-color: #E2EBFA;\n",
       "      box-shadow: 0px 1px 2px rgba(60, 64, 67, 0.3), 0px 1px 3px 1px rgba(60, 64, 67, 0.15);\n",
       "      fill: #174EA6;\n",
       "    }\n",
       "\n",
       "    [theme=dark] .colab-df-convert {\n",
       "      background-color: #3B4455;\n",
       "      fill: #D2E3FC;\n",
       "    }\n",
       "\n",
       "    [theme=dark] .colab-df-convert:hover {\n",
       "      background-color: #434B5C;\n",
       "      box-shadow: 0px 1px 3px 1px rgba(0, 0, 0, 0.15);\n",
       "      filter: drop-shadow(0px 1px 2px rgba(0, 0, 0, 0.3));\n",
       "      fill: #FFFFFF;\n",
       "    }\n",
       "  </style>\n",
       "\n",
       "      <script>\n",
       "        const buttonEl =\n",
       "          document.querySelector('#df-90415709-2b75-43b0-a0e0-67a7a778506b button.colab-df-convert');\n",
       "        buttonEl.style.display =\n",
       "          google.colab.kernel.accessAllowed ? 'block' : 'none';\n",
       "\n",
       "        async function convertToInteractive(key) {\n",
       "          const element = document.querySelector('#df-90415709-2b75-43b0-a0e0-67a7a778506b');\n",
       "          const dataTable =\n",
       "            await google.colab.kernel.invokeFunction('convertToInteractive',\n",
       "                                                     [key], {});\n",
       "          if (!dataTable) return;\n",
       "\n",
       "          const docLinkHtml = 'Like what you see? Visit the ' +\n",
       "            '<a target=\"_blank\" href=https://colab.research.google.com/notebooks/data_table.ipynb>data table notebook</a>'\n",
       "            + ' to learn more about interactive tables.';\n",
       "          element.innerHTML = '';\n",
       "          dataTable['output_type'] = 'display_data';\n",
       "          await google.colab.output.renderOutput(dataTable, element);\n",
       "          const docLink = document.createElement('div');\n",
       "          docLink.innerHTML = docLinkHtml;\n",
       "          element.appendChild(docLink);\n",
       "        }\n",
       "      </script>\n",
       "    </div>\n",
       "  </div>\n",
       "  "
      ],
      "text/plain": [
       "   Unnamed: 0  count  hate_speech  offensive_language  neither  class  \\\n",
       "0           0      3            0                   0        3      2   \n",
       "1           1      3            0                   3        0      1   \n",
       "2           2      3            0                   3        0      1   \n",
       "3           3      3            0                   2        1      1   \n",
       "4           4      6            0                   6        0      1   \n",
       "\n",
       "                                               tweet  \n",
       "0  !!! RT @mayasolovely: As a woman you shouldn't...  \n",
       "1  !!!!! RT @mleew17: boy dats cold...tyga dwn ba...  \n",
       "2  !!!!!!! RT @UrKindOfBrand Dawg!!!! RT @80sbaby...  \n",
       "3  !!!!!!!!! RT @C_G_Anderson: @viva_based she lo...  \n",
       "4  !!!!!!!!!!!!! RT @ShenikaRoberts: The shit you...  "
      ]
     },
     "execution_count": 4,
     "metadata": {},
     "output_type": "execute_result"
    }
   ],
   "source": [
    "# Making A DataFrame of out dataset \n",
    "\n",
    "curr_dir = os.getcwd()\n",
    "data = []\n",
    "\n",
    "# Set the size of Dataset  -- set number according to PC speed more data more training time \n",
    "\n",
    "dataset_size = 10000\n",
    "speech_data = pd.read_csv('/content/labeled_data.csv', nrows=dataset_size)\n",
    "speech_data.head(5)"
   ]
  },
  {
   "cell_type": "code",
   "execution_count": null,
   "metadata": {
    "id": "ugxC8ZmmkA7Q"
   },
   "outputs": [],
   "source": [
    "# Making function that Removing starting and end spaces and Removing unnecessary data such as @#$ \n",
    "\n",
    "import re\n",
    "\n",
    "def clean_text(data):\n",
    "    output = []\n",
    "    for text in data:\n",
    "        if text.isdigit() == False:\n",
    "            text = text.lower()\n",
    "            text = re.sub(r',', '', text)\n",
    "            text = re.sub(r'\\'', '',  text)\n",
    "            text = re.sub(r'\\\"', '', text)\n",
    "            text = re.sub(r'\\(', '', text)\n",
    "            text = re.sub(r'\\)', '', text)\n",
    "            text = re.sub(r'\\n', '', text)\n",
    "            text = re.sub(r'“', '', text)\n",
    "            text = re.sub(r'”', '', text)\n",
    "            text = re.sub(r'’', '', text)\n",
    "            text = re.sub(r'\\.', '', text)\n",
    "            text = re.sub(r';', '', text)\n",
    "            text = re.sub(r':', '', text)\n",
    "            text = re.sub(r'\\-', '', text)\n",
    "            text = re.sub(r'\\\\', '', text)\n",
    "            text = re.sub(r'@', '', text)\n",
    "            text = re.sub(r'#', '', text)\n",
    "            text = re.sub(r'^', '', text)\n",
    "            text = re.sub(r'$', '', text)\n",
    "            text = re.sub(r'&', '', text)\n",
    "            output.append(text)\n",
    "    return ''.join(output)\n",
    "\n",
    "def clean(arr):\n",
    "    temp = []\n",
    "    for i in arr:\n",
    "        text = i.split(':')[-1]\n",
    "        text = clean_text(text)\n",
    "        text = text.strip()\n",
    "        temp.append(text)\n",
    "    return temp"
   ]
  },
  {
   "cell_type": "code",
   "execution_count": null,
   "metadata": {
    "colab": {
     "base_uri": "https://localhost:8080/"
    },
    "executionInfo": {
     "elapsed": 11108,
     "status": "ok",
     "timestamp": 1684057081119,
     "user": {
      "displayName": "taksh beladiya",
      "userId": "11181425555314775706"
     },
     "user_tz": -330
    },
    "id": "EBoGqh4hkA9m",
    "outputId": "caa68d73-8836-48d6-982b-b809325e1f69"
   },
   "outputs": [
    {
     "data": {
      "text/plain": [
       "0       as a woman you shouldnt complain about cleanin...\n",
       "1       boy dats coldtyga dwn bad for cuffin dat hoe i...\n",
       "2       you ever fuck a bitch and she start to cry? yo...\n",
       "3                       viva_based she look like a tranny\n",
       "4       the shit you hear about me might be true or it...\n",
       "                              ...                        \n",
       "9995        i aint trying to fuck bitch i just want wings\n",
       "9996         i aint mad at you bitches thats what hoes do\n",
       "9997                 i aint mad at you thats what hoes do\n",
       "9998    i aint never had a prob with no other bitch ov...\n",
       "9999    i aint no killa but dont push me revenge is th...\n",
       "Name: tweet, Length: 10000, dtype: object"
      ]
     },
     "execution_count": 6,
     "metadata": {},
     "output_type": "execute_result"
    }
   ],
   "source": [
    "# Applying the function and doing DataCleaning \n",
    "\n",
    "speech_data['tweet'] = clean(speech_data['tweet'])\n",
    "speech_data['tweet']"
   ]
  },
  {
   "cell_type": "code",
   "execution_count": null,
   "metadata": {
    "colab": {
     "base_uri": "https://localhost:8080/",
     "height": 178
    },
    "executionInfo": {
     "elapsed": 19,
     "status": "ok",
     "timestamp": 1684057081120,
     "user": {
      "displayName": "taksh beladiya",
      "userId": "11181425555314775706"
     },
     "user_tz": -330
    },
    "id": "Nvh6QVHbkA_2",
    "outputId": "fa132df8-382b-4a71-9685-d9d4b3846714"
   },
   "outputs": [
    {
     "name": "stdout",
     "output_type": "stream",
     "text": [
      "unique value of classes is : [0, 1, 2]\n",
      "Speech type : ['neither', 'offensive_language', 'hate_speech']\n"
     ]
    },
    {
     "data": {
      "text/html": [
       "\n",
       "  <div id=\"df-2931d78d-fe01-4464-ab3a-0d022f48018d\">\n",
       "    <div class=\"colab-df-container\">\n",
       "      <div>\n",
       "<style scoped>\n",
       "    .dataframe tbody tr th:only-of-type {\n",
       "        vertical-align: middle;\n",
       "    }\n",
       "\n",
       "    .dataframe tbody tr th {\n",
       "        vertical-align: top;\n",
       "    }\n",
       "\n",
       "    .dataframe thead th {\n",
       "        text-align: right;\n",
       "    }\n",
       "</style>\n",
       "<table border=\"1\" class=\"dataframe\">\n",
       "  <thead>\n",
       "    <tr style=\"text-align: right;\">\n",
       "      <th></th>\n",
       "      <th>class_name</th>\n",
       "      <th>class</th>\n",
       "      <th>tweet</th>\n",
       "    </tr>\n",
       "  </thead>\n",
       "  <tbody>\n",
       "    <tr>\n",
       "      <th>0</th>\n",
       "      <td>neither</td>\n",
       "      <td>0</td>\n",
       "      <td>780</td>\n",
       "    </tr>\n",
       "    <tr>\n",
       "      <th>1</th>\n",
       "      <td>offensive_language</td>\n",
       "      <td>1</td>\n",
       "      <td>7486</td>\n",
       "    </tr>\n",
       "    <tr>\n",
       "      <th>2</th>\n",
       "      <td>hate_speech</td>\n",
       "      <td>2</td>\n",
       "      <td>1734</td>\n",
       "    </tr>\n",
       "  </tbody>\n",
       "</table>\n",
       "</div>\n",
       "      <button class=\"colab-df-convert\" onclick=\"convertToInteractive('df-2931d78d-fe01-4464-ab3a-0d022f48018d')\"\n",
       "              title=\"Convert this dataframe to an interactive table.\"\n",
       "              style=\"display:none;\">\n",
       "        \n",
       "  <svg xmlns=\"http://www.w3.org/2000/svg\" height=\"24px\"viewBox=\"0 0 24 24\"\n",
       "       width=\"24px\">\n",
       "    <path d=\"M0 0h24v24H0V0z\" fill=\"none\"/>\n",
       "    <path d=\"M18.56 5.44l.94 2.06.94-2.06 2.06-.94-2.06-.94-.94-2.06-.94 2.06-2.06.94zm-11 1L8.5 8.5l.94-2.06 2.06-.94-2.06-.94L8.5 2.5l-.94 2.06-2.06.94zm10 10l.94 2.06.94-2.06 2.06-.94-2.06-.94-.94-2.06-.94 2.06-2.06.94z\"/><path d=\"M17.41 7.96l-1.37-1.37c-.4-.4-.92-.59-1.43-.59-.52 0-1.04.2-1.43.59L10.3 9.45l-7.72 7.72c-.78.78-.78 2.05 0 2.83L4 21.41c.39.39.9.59 1.41.59.51 0 1.02-.2 1.41-.59l7.78-7.78 2.81-2.81c.8-.78.8-2.07 0-2.86zM5.41 20L4 18.59l7.72-7.72 1.47 1.35L5.41 20z\"/>\n",
       "  </svg>\n",
       "      </button>\n",
       "      \n",
       "  <style>\n",
       "    .colab-df-container {\n",
       "      display:flex;\n",
       "      flex-wrap:wrap;\n",
       "      gap: 12px;\n",
       "    }\n",
       "\n",
       "    .colab-df-convert {\n",
       "      background-color: #E8F0FE;\n",
       "      border: none;\n",
       "      border-radius: 50%;\n",
       "      cursor: pointer;\n",
       "      display: none;\n",
       "      fill: #1967D2;\n",
       "      height: 32px;\n",
       "      padding: 0 0 0 0;\n",
       "      width: 32px;\n",
       "    }\n",
       "\n",
       "    .colab-df-convert:hover {\n",
       "      background-color: #E2EBFA;\n",
       "      box-shadow: 0px 1px 2px rgba(60, 64, 67, 0.3), 0px 1px 3px 1px rgba(60, 64, 67, 0.15);\n",
       "      fill: #174EA6;\n",
       "    }\n",
       "\n",
       "    [theme=dark] .colab-df-convert {\n",
       "      background-color: #3B4455;\n",
       "      fill: #D2E3FC;\n",
       "    }\n",
       "\n",
       "    [theme=dark] .colab-df-convert:hover {\n",
       "      background-color: #434B5C;\n",
       "      box-shadow: 0px 1px 3px 1px rgba(0, 0, 0, 0.15);\n",
       "      filter: drop-shadow(0px 1px 2px rgba(0, 0, 0, 0.3));\n",
       "      fill: #FFFFFF;\n",
       "    }\n",
       "  </style>\n",
       "\n",
       "      <script>\n",
       "        const buttonEl =\n",
       "          document.querySelector('#df-2931d78d-fe01-4464-ab3a-0d022f48018d button.colab-df-convert');\n",
       "        buttonEl.style.display =\n",
       "          google.colab.kernel.accessAllowed ? 'block' : 'none';\n",
       "\n",
       "        async function convertToInteractive(key) {\n",
       "          const element = document.querySelector('#df-2931d78d-fe01-4464-ab3a-0d022f48018d');\n",
       "          const dataTable =\n",
       "            await google.colab.kernel.invokeFunction('convertToInteractive',\n",
       "                                                     [key], {});\n",
       "          if (!dataTable) return;\n",
       "\n",
       "          const docLinkHtml = 'Like what you see? Visit the ' +\n",
       "            '<a target=\"_blank\" href=https://colab.research.google.com/notebooks/data_table.ipynb>data table notebook</a>'\n",
       "            + ' to learn more about interactive tables.';\n",
       "          element.innerHTML = '';\n",
       "          dataTable['output_type'] = 'display_data';\n",
       "          await google.colab.output.renderOutput(dataTable, element);\n",
       "          const docLink = document.createElement('div');\n",
       "          docLink.innerHTML = docLinkHtml;\n",
       "          element.appendChild(docLink);\n",
       "        }\n",
       "      </script>\n",
       "    </div>\n",
       "  </div>\n",
       "  "
      ],
      "text/plain": [
       "           class_name  class  tweet\n",
       "0             neither      0    780\n",
       "1  offensive_language      1   7486\n",
       "2         hate_speech      2   1734"
      ]
     },
     "execution_count": 7,
     "metadata": {},
     "output_type": "execute_result"
    }
   ],
   "source": [
    "# Extracting the unqiue classes their name \n",
    "\n",
    "uni_classes = [0,1,2]\n",
    "class_name = ['neither','offensive_language','hate_speech']\n",
    "speech_df = pd.DataFrame({\n",
    "    'class_name' : class_name,\n",
    "    'class' : uni_classes\n",
    "})\n",
    "print(f'unique value of classes is : {uni_classes}')\n",
    "print(f'Speech type : {class_name}')\n",
    "total_df = speech_data.groupby(['class'])[['tweet']].count().reset_index()\n",
    "pd.merge(speech_df, total_df, on=\"class\")"
   ]
  },
  {
   "cell_type": "code",
   "execution_count": null,
   "metadata": {
    "colab": {
     "base_uri": "https://localhost:8080/"
    },
    "executionInfo": {
     "elapsed": 16,
     "status": "ok",
     "timestamp": 1684057081120,
     "user": {
      "displayName": "taksh beladiya",
      "userId": "11181425555314775706"
     },
     "user_tz": -330
    },
    "id": "WRIVJfRVkBCR",
    "outputId": "f19998e8-fae3-4ea6-a77f-18c8812a780e"
   },
   "outputs": [
    {
     "name": "stdout",
     "output_type": "stream",
     "text": [
      "Length of dataset is : 10000\n"
     ]
    }
   ],
   "source": [
    "# Total Length of DataSet after processing Stage\n",
    "\n",
    "print(f'Length of dataset is : {len(speech_data)}')"
   ]
  },
  {
   "cell_type": "code",
   "execution_count": null,
   "metadata": {
    "id": "X2Jt-PzDkBEq"
   },
   "outputs": [],
   "source": [
    "# Converting the X and y Target data into a list from a Series \n",
    "\n",
    "tweet_data = speech_data['tweet'].tolist()\n",
    "class_data = speech_data['class'].tolist()"
   ]
  },
  {
   "cell_type": "code",
   "execution_count": null,
   "metadata": {
    "colab": {
     "base_uri": "https://localhost:8080/"
    },
    "executionInfo": {
     "elapsed": 15,
     "status": "ok",
     "timestamp": 1684057081121,
     "user": {
      "displayName": "taksh beladiya",
      "userId": "11181425555314775706"
     },
     "user_tz": -330
    },
    "id": "AhvWTq6FkBHp",
    "outputId": "183fad1c-022b-41a8-b7c0-fcb7610e2814"
   },
   "outputs": [
    {
     "name": "stdout",
     "output_type": "stream",
     "text": [
      "8000\n",
      "8000\n",
      "2000\n",
      "2000\n"
     ]
    }
   ],
   "source": [
    "# Splitting the Data into training and Testing Dataset\n",
    "\n",
    "X_train, X_test, y_train, y_test = train_test_split(tweet_data, speech_data['class'], test_size=0.20)\n",
    "print(len(X_train))\n",
    "print(len(y_train))\n",
    "print(len(X_test))\n",
    "print(len(y_test))"
   ]
  },
  {
   "cell_type": "code",
   "execution_count": null,
   "metadata": {
    "colab": {
     "base_uri": "https://localhost:8080/",
     "height": 466
    },
    "executionInfo": {
     "elapsed": 824,
     "status": "ok",
     "timestamp": 1684057081931,
     "user": {
      "displayName": "taksh beladiya",
      "userId": "11181425555314775706"
     },
     "user_tz": -330
    },
    "id": "tUfniTY2kBJu",
    "outputId": "d896d29c-426c-4952-fe84-8734194193a1"
   },
   "outputs": [
    {
     "name": "stdout",
     "output_type": "stream",
     "text": [
      "Average length of Data is 63\n"
     ]
    },
    {
     "data": {
      "image/png": "[encoded data removed]",
      "text/plain": [
       "<Figure size 640x480 with 1 Axes>"
      ]
     },
     "metadata": {},
     "output_type": "display_data"
    }
   ],
   "source": [
    "# Extaracting the total Average Length of Each Sentence and making a BarPlot For Better Visulization\n",
    "\n",
    "length_data = [len(x) for x in X_train]\n",
    "avg_length = sum(length_data) // len(length_data)\n",
    "print(f\"Average length of Data is {avg_length}\")\n",
    "plt.hist(length_data, alpha=0.5, label='x', range=[0, 200])\n",
    "plt.xlabel('Length')\n",
    "plt.ylabel(\"No of Lines\")\n",
    "plt.show()"
   ]
  },
  {
   "cell_type": "code",
   "execution_count": null,
   "metadata": {
    "id": "mDHB3-8gmHcR"
   },
   "outputs": [],
   "source": [
    "# Downloading the Pre-Trained Tokenizer from Hugging-Face \n",
    "\n",
    "tokenizer = AutoTokenizer.from_pretrained(\"bert-base-uncased\")"
   ]
  },
  {
   "cell_type": "code",
   "execution_count": null,
   "metadata": {
    "id": "TSySTXJ5kBL_"
   },
   "outputs": [],
   "source": [
    "# Making a function that takes text as Input and Tokenizer it and return it\n",
    "\n",
    "def regular_encode(texts, tokenizer, maxlen = 70):\n",
    "    enc_di = tokenizer(texts, pad_to_max_length = True, max_length = maxlen)\n",
    "    return np.array(enc_di['input_ids'])"
   ]
  },
  {
   "cell_type": "code",
   "execution_count": null,
   "metadata": {
    "colab": {
     "base_uri": "https://localhost:8080/"
    },
    "executionInfo": {
     "elapsed": 2181,
     "status": "ok",
     "timestamp": 1684057084108,
     "user": {
      "displayName": "taksh beladiya",
      "userId": "11181425555314775706"
     },
     "user_tz": -330
    },
    "id": "4PO7ZHrWkBTW",
    "outputId": "369d2d61-0159-413c-dde9-f04d19b8986a"
   },
   "outputs": [
    {
     "name": "stderr",
     "output_type": "stream",
     "text": [
      "Truncation was not explicitly activated but `max_length` is provided a specific value, please use `truncation=True` to explicitly truncate examples to max length. Defaulting to 'longest_first' truncation strategy. If you encode pairs of sequences (GLUE-style) with the tokenizer you can select this strategy more precisely by providing a specific strategy to `truncation`.\n",
      "/usr/local/lib/python3.10/dist-packages/transformers/tokenization_utils_base.py:2364: FutureWarning: The `pad_to_max_length` argument is deprecated and will be removed in a future version, use `padding=True` or `padding='longest'` to pad to the longest sequence in the batch, or use `padding='max_length'` to pad to a max length. In this case, you can give a specific length with `max_length` (e.g. `max_length=45`) or leave max_length to None to pad to the maximal input size of the model (e.g. 512 for Bert).\n",
      "  warnings.warn(\n"
     ]
    }
   ],
   "source": [
    "# Inilizaion of MaxLenght of out Input Data and Applying the Function on Sentence and Converting into \n",
    "\n",
    "maxlen = 70\n",
    "Xtrain_encoded = regular_encode(X_train, tokenizer, maxlen = maxlen)\n",
    "Xtest_encoded = regular_encode(X_test, tokenizer, maxlen = maxlen)"
   ]
  },
  {
   "cell_type": "code",
   "execution_count": null,
   "metadata": {
    "id": "Pek4u6RdkBWA"
   },
   "outputs": [],
   "source": [
    "# Inilizaion of BatchSize and Converting the Dataset into Tensor-slices of specific batch-size \n",
    "\n",
    "BATCH_SIZE = 128\n",
    "AUTO = tf.data.experimental.AUTOTUNE \n",
    "train_dataset = tf.data.Dataset.from_tensor_slices((Xtrain_encoded, y_train)).repeat().shuffle(2048).batch(BATCH_SIZE)\n",
    "test_dataset = tf.data.Dataset.from_tensor_slices((Xtest_encoded, y_test)).batch(BATCH_SIZE)"
   ]
  },
  {
   "cell_type": "code",
   "execution_count": null,
   "metadata": {
    "id": "e-EtB4yBkBYt"
   },
   "outputs": [],
   "source": [
    "# Building our Model it is Pre-Trained BERT model one of the Hugging-Face Model \n",
    "\n",
    "def build_model(transformer, loss = 'categorical_crossentropy', max_len = maxlen):\n",
    "    input_word_ids = tf.keras.layers.Input(shape = (max_len,), dtype = tf.int32, name = \"input_word_ids\")\n",
    "    sequence_output = transformer(input_word_ids)[0]\n",
    "    cls_token = sequence_output[:, 0, :]\n",
    "\n",
    "    #adding dropout layer\n",
    "    x = tf.keras.layers.Dropout(0.40)(cls_token)\n",
    "\n",
    "    #using a dense layer of 3 neurons as the number of unique categories is 3. \n",
    "    out = tf.keras.layers.Dense(3, activation = 'sigmoid')(x)\n",
    "\n",
    "    model = tf.keras.Model(inputs = input_word_ids, outputs = out)\n",
    "    \n",
    "    model.compile(tf.keras.optimizers.Adam(learning_rate = 3e-5), \n",
    "                  loss=tf.keras.losses.SparseCategoricalCrossentropy(),\n",
    "                  metrics = ['accuracy'])\n",
    "    return model"
   ]
  },
  {
   "cell_type": "code",
   "execution_count": null,
   "metadata": {
    "colab": {
     "base_uri": "https://localhost:8080/"
    },
    "executionInfo": {
     "elapsed": 4190,
     "status": "ok",
     "timestamp": 1684057090357,
     "user": {
      "displayName": "taksh beladiya",
      "userId": "11181425555314775706"
     },
     "user_tz": -330
    },
    "id": "98RaZ1CkkBbP",
    "outputId": "0090227b-4b65-49fb-cc82-c4785c4d5f06"
   },
   "outputs": [
    {
     "name": "stderr",
     "output_type": "stream",
     "text": [
      "Some layers from the model checkpoint at bert-base-uncased were not used when initializing TFBertModel: ['mlm___cls', 'nsp___cls']\n",
      "- This IS expected if you are initializing TFBertModel from the checkpoint of a model trained on another task or with another architecture (e.g. initializing a BertForSequenceClassification model from a BertForPreTraining model).\n",
      "- This IS NOT expected if you are initializing TFBertModel from the checkpoint of a model that you expect to be exactly identical (initializing a BertForSequenceClassification model from a BertForSequenceClassification model).\n",
      "All the layers of TFBertModel were initialized from the model checkpoint at bert-base-uncased.\n",
      "If your task is similar to the task the model of the checkpoint was trained on, you can already use TFBertModel for predictions without further training.\n"
     ]
    }
   ],
   "source": [
    "# Downloading The model from the Hugging-face \n",
    "\n",
    "transformer_layer = TFAutoModel.from_pretrained(\"bert-base-uncased\")"
   ]
  },
  {
   "cell_type": "code",
   "execution_count": null,
   "metadata": {
    "id": "w-PSDP3DkBd0"
   },
   "outputs": [],
   "source": [
    "# Inilization of our model \n",
    "\n",
    "model = build_model(transformer_layer, max_len = maxlen)"
   ]
  },
  {
   "cell_type": "code",
   "execution_count": null,
   "metadata": {
    "colab": {
     "base_uri": "https://localhost:8080/"
    },
    "executionInfo": {
     "elapsed": 40,
     "status": "ok",
     "timestamp": 1684057102867,
     "user": {
      "displayName": "taksh beladiya",
      "userId": "11181425555314775706"
     },
     "user_tz": -330
    },
    "id": "DlzZbCntkBgZ",
    "outputId": "0c1da1ec-65a4-4e5a-c586-a446a16dcfd8"
   },
   "outputs": [
    {
     "name": "stdout",
     "output_type": "stream",
     "text": [
      "Model: \"model\"\n",
      "_________________________________________________________________\n",
      " Layer (type)                Output Shape              Param #   \n",
      "=================================================================\n",
      " input_word_ids (InputLayer)  [(None, 70)]             0         \n",
      "                                                                 \n",
      " tf_bert_model (TFBertModel)  TFBaseModelOutputWithPoo  109482240\n",
      "                             lingAndCrossAttentions(l            \n",
      "                             ast_hidden_state=(None,             \n",
      "                             70, 768),                           \n",
      "                              pooler_output=(None, 76            \n",
      "                             8),                                 \n",
      "                              past_key_values=None, h            \n",
      "                             idden_states=None, atten            \n",
      "                             tions=None, cross_attent            \n",
      "                             ions=None)                          \n",
      "                                                                 \n",
      " tf.__operators__.getitem (S  (None, 768)              0         \n",
      " licingOpLambda)                                                 \n",
      "                                                                 \n",
      " dropout_37 (Dropout)        (None, 768)               0         \n",
      "                                                                 \n",
      " dense (Dense)               (None, 3)                 2307      \n",
      "                                                                 \n",
      "=================================================================\n",
      "Total params: 109,484,547\n",
      "Trainable params: 109,484,547\n",
      "Non-trainable params: 0\n",
      "_________________________________________________________________\n"
     ]
    }
   ],
   "source": [
    "# Making a Plot for Better Understanding of Model Structure \n",
    "\n",
    "model.summary()"
   ]
  },
  {
   "cell_type": "code",
   "execution_count": null,
   "metadata": {
    "colab": {
     "base_uri": "https://localhost:8080/"
    },
    "executionInfo": {
     "elapsed": 1255289,
     "status": "ok",
     "timestamp": 1684058358123,
     "user": {
      "displayName": "taksh beladiya",
      "userId": "11181425555314775706"
     },
     "user_tz": -330
    },
    "id": "AVjcsS2OkBjH",
    "outputId": "44c1b20b-77c5-4c9c-ce1d-b461daa77040"
   },
   "outputs": [
    {
     "name": "stdout",
     "output_type": "stream",
     "text": [
      "Epoch 1/10\n"
     ]
    },
    {
     "name": "stderr",
     "output_type": "stream",
     "text": [
      "WARNING:tensorflow:Gradients do not exist for variables ['tf_bert_model/bert/pooler/dense/kernel:0', 'tf_bert_model/bert/pooler/dense/bias:0'] when minimizing the loss. If you're using `model.compile()`, did you forget to provide a `loss` argument?\n",
      "WARNING:tensorflow:Gradients do not exist for variables ['tf_bert_model/bert/pooler/dense/kernel:0', 'tf_bert_model/bert/pooler/dense/bias:0'] when minimizing the loss. If you're using `model.compile()`, did you forget to provide a `loss` argument?\n",
      "WARNING:tensorflow:Gradients do not exist for variables ['tf_bert_model/bert/pooler/dense/kernel:0', 'tf_bert_model/bert/pooler/dense/bias:0'] when minimizing the loss. If you're using `model.compile()`, did you forget to provide a `loss` argument?\n",
      "WARNING:tensorflow:Gradients do not exist for variables ['tf_bert_model/bert/pooler/dense/kernel:0', 'tf_bert_model/bert/pooler/dense/bias:0'] when minimizing the loss. If you're using `model.compile()`, did you forget to provide a `loss` argument?\n"
     ]
    },
    {
     "name": "stdout",
     "output_type": "stream",
     "text": [
      "62/62 [==============================] - 187s 2s/step - loss: 0.6411 - accuracy: 0.7612 - val_loss: 0.4134 - val_accuracy: 0.8270\n",
      "Epoch 2/10\n",
      "62/62 [==============================] - 113s 2s/step - loss: 0.3905 - accuracy: 0.8513 - val_loss: 0.3669 - val_accuracy: 0.8605\n",
      "Epoch 3/10\n",
      "62/62 [==============================] - 113s 2s/step - loss: 0.3392 - accuracy: 0.8600 - val_loss: 0.3484 - val_accuracy: 0.8635\n",
      "Epoch 4/10\n",
      "62/62 [==============================] - 113s 2s/step - loss: 0.2715 - accuracy: 0.8916 - val_loss: 0.3697 - val_accuracy: 0.8680\n",
      "Epoch 5/10\n",
      "62/62 [==============================] - 113s 2s/step - loss: 0.2223 - accuracy: 0.9109 - val_loss: 0.4057 - val_accuracy: 0.8595\n",
      "Epoch 6/10\n",
      "62/62 [==============================] - 113s 2s/step - loss: 0.1600 - accuracy: 0.9323 - val_loss: 0.5191 - val_accuracy: 0.8445\n",
      "Epoch 7/10\n",
      "62/62 [==============================] - 113s 2s/step - loss: 0.1035 - accuracy: 0.9575 - val_loss: 0.5889 - val_accuracy: 0.8480\n",
      "Epoch 8/10\n",
      "62/62 [==============================] - 113s 2s/step - loss: 0.0813 - accuracy: 0.9699 - val_loss: 0.6071 - val_accuracy: 0.8640\n",
      "Epoch 9/10\n",
      "62/62 [==============================] - 113s 2s/step - loss: 0.0572 - accuracy: 0.9778 - val_loss: 0.6993 - val_accuracy: 0.8550\n",
      "Epoch 10/10\n",
      "62/62 [==============================] - 114s 2s/step - loss: 0.0433 - accuracy: 0.9832 - val_loss: 0.8020 - val_accuracy: 0.8480\n"
     ]
    }
   ],
   "source": [
    "# Fitting the Training and Testing Dataset into the Model \n",
    "\n",
    "n_steps = Xtrain_encoded.shape[0]\n",
    "\n",
    "history = model.fit(\n",
    "    train_dataset,\n",
    "    epochs=10,\n",
    "    steps_per_epoch = n_steps // 128,\n",
    "    validation_data=test_dataset\n",
    ")"
   ]
  },
  {
   "cell_type": "code",
   "execution_count": null,
   "metadata": {
    "colab": {
     "base_uri": "https://localhost:8080/",
     "height": 430
    },
    "executionInfo": {
     "elapsed": 16,
     "status": "ok",
     "timestamp": 1684058358130,
     "user": {
      "displayName": "taksh beladiya",
      "userId": "11181425555314775706"
     },
     "user_tz": -330
    },
    "id": "pqQ5JrHBkBlt",
    "outputId": "6566cec8-6598-4c17-9c61-63c26f999f40"
   },
   "outputs": [
    {
     "data": {
      "image/png": "[encoded data removed]",
      "text/plain": [
       "<Figure size 640x480 with 1 Axes>"
      ]
     },
     "metadata": {},
     "output_type": "display_data"
    }
   ],
   "source": [
    "# Plotting the loss and val_accuracy Graph\n",
    "\n",
    "plt.plot(model.history.history[\"loss\"], label=\"training accuracy\")\n",
    "plt.plot(model.history.history[\"val_accuracy\"], label=\"validation accuracy\")\n",
    "plt.legend()\n",
    "plt.show()"
   ]
  },
  {
   "cell_type": "code",
   "execution_count": null,
   "metadata": {
    "colab": {
     "base_uri": "https://localhost:8080/",
     "height": 430
    },
    "executionInfo": {
     "elapsed": 15,
     "status": "ok",
     "timestamp": 1684058358131,
     "user": {
      "displayName": "taksh beladiya",
      "userId": "11181425555314775706"
     },
     "user_tz": -330
    },
    "id": "_lsJPYO8kBoW",
    "outputId": "aac80cca-123b-4bc8-fa5c-1d71587dfecd"
   },
   "outputs": [
    {
     "data": {
      "image/png": "[encoded data removed]",
      "text/plain": [
       "<Figure size 640x480 with 1 Axes>"
      ]
     },
     "metadata": {},
     "output_type": "display_data"
    }
   ],
   "source": [
    "# Plotting the Accuracy and val_accuracy Graph\n",
    "\n",
    "plt.plot(model.history.history[\"accuracy\"], label=\"training accuracy\")\n",
    "plt.plot(model.history.history[\"val_accuracy\"], label=\"validation accuracy\")\n",
    "plt.legend()\n",
    "plt.show()"
   ]
  },
  {
   "cell_type": "code",
   "execution_count": null,
   "metadata": {
    "colab": {
     "base_uri": "https://localhost:8080/"
    },
    "executionInfo": {
     "elapsed": 8660,
     "status": "ok",
     "timestamp": 1684058366777,
     "user": {
      "displayName": "taksh beladiya",
      "userId": "11181425555314775706"
     },
     "user_tz": -330
    },
    "id": "R1XUMWDckBrB",
    "outputId": "1fd2963a-ca4f-4ca1-c915-9bc0c1f7094b"
   },
   "outputs": [
    {
     "name": "stdout",
     "output_type": "stream",
     "text": [
      "16/16 [==============================] - 9s 557ms/step - loss: 0.8020 - accuracy: 0.8480\n",
      "Evaluation Loss 0.8020132780075073\n",
      "Evaluation Accuracy 0.8479999899864197\n"
     ]
    }
   ],
   "source": [
    "# evaluting the test_dataset\n",
    "\n",
    "eval_data = model.evaluate(test_dataset)\n",
    "print(f'Evaluation Loss {eval_data[0]}')\n",
    "print(f'Evaluation Accuracy {eval_data[1]}')"
   ]
  },
  {
   "cell_type": "code",
   "execution_count": null,
   "metadata": {
    "id": "PdzfI1l-msHr"
   },
   "outputs": [],
   "source": [
    "# Saving Tokenizer \n",
    "\n",
    "import pickle\n",
    "\n",
    "with open('BERT_tokenizer.pickle', 'wb') as handle:\n",
    "    pickle.dump(tokenizer, handle, protocol=pickle.HIGHEST_PROTOCOL)"
   ]
  },
  {
   "cell_type": "code",
   "execution_count": null,
   "metadata": {
    "colab": {
     "base_uri": "https://localhost:8080/"
    },
    "executionInfo": {
     "elapsed": 69724,
     "status": "ok",
     "timestamp": 1684058436492,
     "user": {
      "displayName": "taksh beladiya",
      "userId": "11181425555314775706"
     },
     "user_tz": -330
    },
    "id": "_ss8Vtv_kBty",
    "outputId": "20c37dea-1d94-4728-9aeb-0a19da1bce67"
   },
   "outputs": [
    {
     "name": "stderr",
     "output_type": "stream",
     "text": [
      "WARNING:absl:Found untraced functions such as embeddings_layer_call_fn, embeddings_layer_call_and_return_conditional_losses, encoder_layer_call_fn, encoder_layer_call_and_return_conditional_losses, pooler_layer_call_fn while saving (showing 5 of 420). These functions will not be directly callable after loading.\n"
     ]
    }
   ],
   "source": [
    "# Saving Bert Model \n",
    "\n",
    "model.save('BERT_model_classfication', save_format='tf')"
   ]
  },
  {
   "cell_type": "code",
   "execution_count": null,
   "metadata": {
    "colab": {
     "base_uri": "https://localhost:8080/"
    },
    "executionInfo": {
     "elapsed": 79960,
     "status": "ok",
     "timestamp": 1684058825123,
     "user": {
      "displayName": "taksh beladiya",
      "userId": "11181425555314775706"
     },
     "user_tz": -330
    },
    "id": "5NKFx2Dbttbz",
    "outputId": "baa825ec-55e3-48cb-c005-e28f27dc3964"
   },
   "outputs": [
    {
     "name": "stdout",
     "output_type": "stream",
     "text": [
      "  adding: content/BERT_model_classfication/ (stored 0%)\n",
      "  adding: content/BERT_model_classfication/saved_model.pb (deflated 92%)\n",
      "  adding: content/BERT_model_classfication/variables/ (stored 0%)\n",
      "  adding: content/BERT_model_classfication/variables/variables.data-00000-of-00001 (deflated 17%)\n",
      "  adding: content/BERT_model_classfication/variables/variables.index (deflated 79%)\n",
      "  adding: content/BERT_model_classfication/keras_metadata.pb (deflated 96%)\n",
      "  adding: content/BERT_model_classfication/assets/ (stored 0%)\n",
      "  adding: content/BERT_model_classfication/fingerprint.pb (stored 0%)\n"
     ]
    }
   ],
   "source": [
    "!zip -r /content/BERT_classfication.zip /content/BERT_model_classfication"
   ]
  },
  {
   "cell_type": "code",
   "execution_count": null,
   "metadata": {
    "id": "NfHw-9j5uv4K"
   },
   "outputs": [],
   "source": [
    "# from google.colab import files\n",
    "# files.download(\"/content/ziMIXHG8.zip\")"
   ]
  },
  {
   "cell_type": "code",
   "execution_count": null,
   "metadata": {
    "id": "sNoqfMMokBwe"
   },
   "outputs": [],
   "source": [
    "# Retriving the Tokenizer from Directory  \n",
    "\n",
    "with open('/content/BERT_tokenizer.pickle', 'rb') as handle:\n",
    "    tokenizer = pickle.load(handle)"
   ]
  },
  {
   "cell_type": "code",
   "execution_count": null,
   "metadata": {
    "id": "jqwX5GgEkBzC"
   },
   "outputs": [],
   "source": [
    "# Retriving the saved model\n",
    "\n",
    "# from transformers import TFAutoModel\n",
    "# model = tensorflow.keras.models.load_model('/content/BERT_model_classfication', custom_objects=TFAutoModel)"
   ]
  },
  {
   "cell_type": "code",
   "execution_count": null,
   "metadata": {
    "id": "SNMfAOJtkB1y"
   },
   "outputs": [],
   "source": [
    "# Making a Function that user Input as a Sentence and give them Output\n",
    "\n",
    "def predict_text(text):\n",
    "    speech_dict = {0:'hate_speech',1:'offensive_language', 2:'neither'}\n",
    "    data = tokenizer([text], pad_to_max_length = True, max_length = 70)['input_ids']\n",
    "    data = model.predict(data)\n",
    "    ans = np.argmax(data)\n",
    "    return speech_dict[ans]"
   ]
  },
  {
   "cell_type": "code",
   "execution_count": null,
   "metadata": {
    "colab": {
     "base_uri": "https://localhost:8080/",
     "height": 53
    },
    "executionInfo": {
     "elapsed": 659,
     "status": "ok",
     "timestamp": 1684059282737,
     "user": {
      "displayName": "taksh beladiya",
      "userId": "11181425555314775706"
     },
     "user_tz": -330
    },
    "id": "ImBneaTDnWnw",
    "outputId": "b57b80a6-61f9-4f5a-b839-c595df6d847c"
   },
   "outputs": [
    {
     "name": "stdout",
     "output_type": "stream",
     "text": [
      "1/1 [==============================] - 0s 116ms/step\n"
     ]
    },
    {
     "data": {
      "application/vnd.google.colaboratory.intrinsic+json": {
       "type": "string"
      },
      "text/plain": [
       "'offensive_language'"
      ]
     },
     "execution_count": 42,
     "metadata": {},
     "output_type": "execute_result"
    }
   ],
   "source": [
    "# Example of out Model Prediction\n",
    "\n",
    "predict_text(\"u are such a fool\")"
   ]
  }
 ],
 "metadata": {
  "accelerator": "GPU",
  "colab": {
   "authorship_tag": "ABX9TyPlSxBNIALSFPaRhTQeTd16",
   "gpuType": "T4",
   "provenance": []
  },
  "gpuClass": "standard",
  "kernelspec": {
   "display_name": "Python 3 (ipykernel)",
   "language": "python",
   "name": "python3"
  },
  "language_info": {
   "codemirror_mode": {
    "name": "ipython",
    "version": 3
   },
   "file_extension": ".py",
   "mimetype": "text/x-python",
   "name": "python",
   "nbconvert_exporter": "python",
   "pygments_lexer": "ipython3",
   "version": "3.9.16"
  }
 },
 "nbformat": 4,
 "nbformat_minor": 1
}
